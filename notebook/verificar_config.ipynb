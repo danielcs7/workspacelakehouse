{
 "cells": [
  {
   "cell_type": "code",
   "execution_count": null,
   "id": "fe491f43-003b-4597-a9e8-8a7c35724611",
   "metadata": {},
   "outputs": [],
   "source": [
    "from pyspark.sql import SparkSession\n",
    "\n",
    "spark = SparkSession.builder \\\n",
    "    .appName(\"IcebergSession\") \\\n",
    "    .config(\"spark.jars\", \"/opt/spark/jars/iceberg-spark-runtime-3.5_2.12-1.6.0.jar\") \\\n",
    "    .config(\"spark.sql.extensions\", \"org.apache.iceberg.spark.extensions.IcebergSparkSessionExtensions\") \\\n",
    "    .config(\"spark.sql.catalog.spark_catalog\", \"org.apache.iceberg.spark.SparkSessionCatalog\") \\\n",
    "    .config(\"spark.sql.catalog.spark_catalog.type\", \"hive\") \\\n",
    "    .config(\"spark.sql.catalog.spark_catalog.warehouse\", \"s3a://datalake/iceberg\") \\\n",
    "    .getOrCreate()\n",
    "#Ajuste de log WARN log para ERROR\n",
    "spark.sparkContext.setLogLevel(\"ERROR\")"
   ]
  },
  {
   "cell_type": "code",
   "execution_count": null,
   "id": "36a4b9e2-f540-4e8a-b72e-c56a2dfa304f",
   "metadata": {},
   "outputs": [],
   "source": [
    "jars = spark.sparkContext._jsc.sc().listJars()\n",
    "print(jars)\n"
   ]
  },
  {
   "cell_type": "code",
   "execution_count": null,
   "id": "69b8eb1e-ea56-4aba-bbbd-c23bf1d27e0f",
   "metadata": {},
   "outputs": [],
   "source": []
  }
 ],
 "metadata": {
  "kernelspec": {
   "display_name": "Python 3 (ipykernel)",
   "language": "python",
   "name": "python3"
  },
  "language_info": {
   "codemirror_mode": {
    "name": "ipython",
    "version": 3
   },
   "file_extension": ".py",
   "mimetype": "text/x-python",
   "name": "python",
   "nbconvert_exporter": "python",
   "pygments_lexer": "ipython3",
   "version": "3.8.10"
  }
 },
 "nbformat": 4,
 "nbformat_minor": 5
}
