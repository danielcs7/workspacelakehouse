{
 "cells": [
  {
   "cell_type": "code",
   "execution_count": null,
   "id": "457ca4a3-b43a-45ff-b5ff-458a7acb73ed",
   "metadata": {},
   "outputs": [],
   "source": [
    "from IPython.display import display, HTML"
   ]
  },
  {
   "cell_type": "code",
   "execution_count": null,
   "id": "9c4e05e2-cfe1-4a26-83d5-0bb93dd02a55",
   "metadata": {},
   "outputs": [],
   "source": [
    "def auth(auth_url):\n",
    "    \"\"\"\n",
    "    This function authenticates to the API and keeps the session active.\n",
    "\n",
    "    Args:\n",
    "        auth_url (str): Url de autenticação\n",
    "        \n",
    "    Retuens:    \n",
    "        session: Sessão ativa\n",
    "        authentication: True or False\n",
    "    \"\"\"\n",
    "\n",
    "    try:\n",
    "        session = requests.Session()\n",
    "        \n",
    "        # auth_url = f\"{API_URL}/{AUT}\"\n",
    "        response = session.post(auth_url)\n",
    "        \n",
    "        if response.status_code == 200 and response.json() == True:\n",
    "            authentication = response.json()\n",
    "            return session, authentication\n",
    "        else:\n",
    "            raise Exception(\"Autenticação falhou\")\n",
    "            \n",
    "    except Exception as e:\n",
    "        print(f'Error: {e}')\n",
    "        "
   ]
  },
  {
   "cell_type": "code",
   "execution_count": null,
   "id": "da961d9d-3a70-49a8-8f93-e04aa6737a17",
   "metadata": {},
   "outputs": [],
   "source": [
    "def fetch_data(session, authentication, end_point) -> list:\n",
    "    \"\"\"\n",
    "    Args:\n",
    "        session (Session): Asessão ativa.\n",
    "        authentication (bool): Retorna True para autenticação bem sucessida e False o contrario.\n",
    "        end_point (str): URL do endpoint da API\n",
    "\n",
    "    Returns:\n",
    "        Data: Retorna os dados obtidos da API\n",
    "    \n",
    "    \"\"\"\n",
    "    try:\n",
    "        if authentication == True:\n",
    "            posicao_response = session.get(end_point)\n",
    "            \n",
    "            data = posicao_response.json()\n",
    "\n",
    "            return data\n",
    "            \n",
    "    except Execption as e:\n",
    "        print(f'Error: {e}')\n",
    "    "
   ]
  },
  {
   "cell_type": "code",
   "execution_count": null,
   "id": "a7a9b227-b144-4308-95fc-7452c548f9bf",
   "metadata": {},
   "outputs": [],
   "source": [
    "def create_dataframe(schema: list, data: list) -> DataFrame:\n",
    "    \"\"\"This function will creates new Pyspark DataFrames.\n",
    "\n",
    "    Args:\n",
    "        schema (list): Uma lista com a estrutura da tabela ou schema\n",
    "        data (list): Uma lista com os dados no formato do schema\n",
    "    Returns:\n",
    "        df: Retorna um DataFrame do Pyspark\n",
    "\n",
    "    Snippet:\n",
    "        my_df = create_dataframe(my_schema, my_data)\n",
    "    \n",
    "    \"\"\"\n",
    "    try:\n",
    "        if schema != None and data != None:\n",
    "            schema_df = StructType(schema)\n",
    "            df = spark.createDataFrame(data, schema_df)\n",
    "        \n",
    "        return(df)\n",
    "    except Exception as e:\n",
    "        print(f\"Something went wrong: {e}\")  "
   ]
  },
  {
   "cell_type": "code",
   "execution_count": null,
   "id": "a1260840-0d97-4dab-a5ae-b533782426bd",
   "metadata": {},
   "outputs": [],
   "source": []
  },
  {
   "cell_type": "code",
   "execution_count": null,
   "id": "854db3f5-aa9f-4350-99e4-14523a186172",
   "metadata": {},
   "outputs": [],
   "source": [
    "display(HTML('''\n",
    "<style>\n",
    "    .code-box {\n",
    "        background-color:#82AAFF !important; \n",
    "        border: 1px solid #82AAFF !important;\n",
    "        border-radius: 5px !important;\n",
    "        padding: 10px !important;\n",
    "        font-family: Consolas, Monaco, \"Andale Mono\", \"Ubuntu Mono\", monospace !important;\n",
    "        color: #000F32 !important;\n",
    "        overflow-x: auto;    }\n",
    "\n",
    "    /* Estilo adicional para o código dentro da caixa */\n",
    "    .code-box code {\n",
    "        background: transparent !important;     /* Remove fundo do código */\n",
    "        color: #000F32 !important;              /* Cor do texto verde */\n",
    "    }\n",
    "</style>\n",
    "<pre class=\"code-box\"><code>\n",
    "# Funções disponiveis:\n",
    "auth()\n",
    "fetch_data()\n",
    "create_dataframe()\n",
    "\n",
    "# Para acessar a Docstring\n",
    "create_dataframe?  \n",
    "</code></pre>\n",
    "'''))"
   ]
  }
 ],
 "metadata": {
  "kernelspec": {
   "display_name": "Python 3 (ipykernel)",
   "language": "python",
   "name": "python3"
  },
  "language_info": {
   "codemirror_mode": {
    "name": "ipython",
    "version": 3
   },
   "file_extension": ".py",
   "mimetype": "text/x-python",
   "name": "python",
   "nbconvert_exporter": "python",
   "pygments_lexer": "ipython3",
   "version": "3.8.10"
  }
 },
 "nbformat": 4,
 "nbformat_minor": 5
}
