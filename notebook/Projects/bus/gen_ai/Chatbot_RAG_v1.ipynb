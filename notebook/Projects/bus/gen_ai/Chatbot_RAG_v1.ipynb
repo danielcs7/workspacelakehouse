{
 "cells": [
  {
   "cell_type": "markdown",
   "id": "4d079578-172d-4b74-8878-5f293a74f1d9",
   "metadata": {},
   "source": [
    "### RAG with Tabalar Data\n"
   ]
  },
  {
   "cell_type": "code",
   "execution_count": null,
   "id": "b2e0d65b-ae27-46e1-8664-03666950c929",
   "metadata": {},
   "outputs": [],
   "source": [
    "from pyspark.sql import SparkSession\n",
    "spark = SparkSession.builder \\\n",
    "    .appName('Chatbot_rag_v1') \\\n",
    "    .config(\"spark.jars\", \"/opt/spark/jars/iceberg-spark-runtime-3.5_2.12-1.6.0.jar\") \\\n",
    "    .config(\"spark.sql.extensions\", \"org.apache.iceberg.spark.extensions.IcebergSparkSessionExtensions\") \\\n",
    "    .config(\"spark.sql.catalog.local\", \"org.apache.iceberg.spark.SparkCatalog\") \\\n",
    "    .config(\"spark.sql.catalog.spark_catalog.type\", \"hive\") \\\n",
    "    .config(\"spark.sql.catalog.local.warehouse\", \"s3a://datalake/iceberg\") \\\n",
    "    .getOrCreate()\n",
    "\n",
    "#Ajuste de log WARN log para ERROR\n",
    "spark.sparkContext.setLogLevel(\"ERROR\")"
   ]
  },
  {
   "cell_type": "code",
   "execution_count": null,
   "id": "a0e24615-d448-44fa-bd6c-7e51606089fc",
   "metadata": {},
   "outputs": [],
   "source": [
    "!pip install langchain==0.2.17\n",
    "!pip install langchain_community==0.2.19\n",
    "!pip install -qU langchain-ollama==0.1.3\n",
    "!pip install -qU langchain-qdrant==0.1.4"
   ]
  },
  {
   "cell_type": "code",
   "execution_count": null,
   "id": "a748c12c-740a-4adc-803f-d9650e0e6b05",
   "metadata": {},
   "outputs": [],
   "source": [
    "import os\n",
    "from dotenv import load_dotenv, dotenv_values\n",
    "\n",
    "from langchain.prompts import ChatPromptTemplate, SystemMessagePromptTemplate, HumanMessagePromptTemplate\n",
    "from langchain.chat_models import ChatOllama\n"
   ]
  },
  {
   "cell_type": "markdown",
   "id": "3411b169-9c63-462e-99af-dc72ef58d267",
   "metadata": {},
   "source": [
    "### Visualizar e pegar uma amostra dos dados"
   ]
  },
  {
   "cell_type": "code",
   "execution_count": null,
   "id": "b494fea2-bfbc-4856-b4da-a3d454cc4272",
   "metadata": {},
   "outputs": [],
   "source": [
    "spark.sql(\"Select * from iceberg.silver.tbl_silver_olhovivo\").limit(10).show()"
   ]
  },
  {
   "cell_type": "code",
   "execution_count": null,
   "id": "8904f151-de5d-46f8-ba01-1493e8743bff",
   "metadata": {},
   "outputs": [],
   "source": [
    "df = spark.sql(\"\"\"\n",
    "    Select\n",
    "    c,\n",
    "    cl,\n",
    "    sl,\n",
    "    lt0,\n",
    "    lt1,\n",
    "    qv\n",
    "    \n",
    "    from iceberg.silver.tbl_silver_olhovivo \"\"\"\n",
    ").limit(10)\n",
    "\n",
    "df.createOrReplaceTempView(\"vw_silver_olhovivo\")\n",
    "\n",
    "spark.sql(\"select * from vw_silver_olhovivo\").show()"
   ]
  },
  {
   "cell_type": "markdown",
   "id": "7ae817f3-4690-4171-adca-b1e01af3f7ae",
   "metadata": {},
   "source": [
    "## Funções Auxiliares"
   ]
  },
  {
   "cell_type": "code",
   "execution_count": null,
   "id": "1b4b1a79-50dc-4874-9e0d-3019143184a2",
   "metadata": {},
   "outputs": [],
   "source": [
    "def describe_table(df, table_name=\"tbl_bus_posicao\"):\n",
    "    \"\"\"Coletar metadados da tabela\"\"\"\n",
    "    columns = \"\\n\".join([f\"- {f.name}: {f.dataType.simpleString()}\" for f in df.schema])\n",
    "    return f\"Tabela: {table_name}\\n\\nColunas:\\n{columns}\"\n",
    "\n",
    "import re\n",
    "\n",
    "def clear_sql(response):\n",
    "    \"\"\"Remove blocos de código markdown\"\"\"\n",
    "    sql = re.sub(r\"```sql|```\", \"\", response, flags=re.IGNORECASE).strip()\n",
    "    return sql\n"
   ]
  },
  {
   "cell_type": "markdown",
   "id": "da7d9760-83f6-419d-864c-f488ef6d3775",
   "metadata": {},
   "source": [
    "### Carrega modelo (Mistral 7B)"
   ]
  },
  {
   "cell_type": "code",
   "execution_count": null,
   "id": "e2ffafc7-b5a7-4683-98d9-a751a56983b1",
   "metadata": {},
   "outputs": [],
   "source": [
    "%run ../common/Common_env_functions.ipynb"
   ]
  },
  {
   "cell_type": "code",
   "execution_count": null,
   "id": "bca5390e-f06d-4ee9-a8d6-eeb3e9b73a19",
   "metadata": {},
   "outputs": [],
   "source": [
    "load_dotenv('../.env')\n",
    "OLLAMA_API_URL = os.getenv(\"OLLAMA_API_URL\")"
   ]
  },
  {
   "cell_type": "code",
   "execution_count": null,
   "id": "21fb1451-63aa-43a4-ad8f-0765da5ed3cc",
   "metadata": {},
   "outputs": [],
   "source": [
    "llm = ChatOllama(\n",
    "    model=\"mistral:latest\", \n",
    "    base_url=OLLAMA_API_URL,\n",
    "    temperature=0.3,\n",
    "    num_predict=200,\n",
    "    top_k=30,\n",
    "    top_p=0.9,\n",
    "    repeat_penalty=1.1\n",
    "    \n",
    ") "
   ]
  },
  {
   "cell_type": "markdown",
   "id": "cf02d63c-71cd-4dbc-9049-7933d0a7a3d0",
   "metadata": {},
   "source": [
    "### Configurar Promps (roles System, Human)"
   ]
  },
  {
   "cell_type": "code",
   "execution_count": null,
   "id": "16ee1540-ced3-4e00-b105-ed15587686fb",
   "metadata": {},
   "outputs": [],
   "source": [
    "# Prompt para gerar SQL (com roles)\n",
    "prompt_sql = ChatPromptTemplate.from_messages([\n",
    "    SystemMessagePromptTemplate.from_template(\"Você é um especialista em dados. Gere apenas a consulta SQL.\"),\n",
    "    HumanMessagePromptTemplate.from_template(\n",
    "        \"Com base na estrutura da tabela abaixo:\\n\\n{schema}\\n\\n\"\n",
    "        \"Escreva uma consulta SQL (somente a SQL) para responder:\\n{question}\"\n",
    "    )\n",
    "])\n"
   ]
  },
  {
   "cell_type": "code",
   "execution_count": null,
   "id": "622d7262-cf12-4c96-88c3-9a8ffdccb6b4",
   "metadata": {},
   "outputs": [],
   "source": [
    "# Prompt para gerar resposta para o usuário (com roles)\n",
    "prompt_response = ChatPromptTemplate.from_messages([\n",
    "    SystemMessagePromptTemplate.from_template(\"Você é um assistente de dados.\"),\n",
    "    HumanMessagePromptTemplate.from_template(\n",
    "        \"Pergunta: {question}\\n\\nResultado da consulta:\\n{result}\\n\\n\"\n",
    "        \"Gere uma resposta clara e amigável para o usuário.\"\n",
    "    )\n",
    "])"
   ]
  },
  {
   "cell_type": "markdown",
   "id": "983fa739-ac5b-4b68-ad11-3b542014f128",
   "metadata": {},
   "source": [
    "### Chatbot com RAG"
   ]
  },
  {
   "cell_type": "code",
   "execution_count": null,
   "id": "91bf07d2-72b7-4079-b24e-b5176ae975de",
   "metadata": {},
   "outputs": [],
   "source": [
    "def augmented_response(question):\n",
    "    print(f\"\\n💬question: {question}\")\n",
    "\n",
    "    #Gerar SQL com role, a partir da pergunta do usuário (Especialista de Dados)\n",
    "    schema_txt = describe_table(df, \"vw_silver_olhovivo\")\n",
    "    sql_chain = prompt_sql | llm \n",
    "    sql_result = sql_chain.invoke({\"question\": question, \"schema\": schema_txt})    \n",
    "   \n",
    "    sql_query = clear_sql(sql_result.content)\n",
    "    print(f\"\\n🤖💡 Genereted SQL:\\n{sql_query}\")\n",
    "\n",
    "    # Executar SQL gerado pela \"role especialista de dados\" no Spark\n",
    "    try:\n",
    "        result_df = spark.sql(sql_query).toPandas().to_dict(orient=\"records\")\n",
    "    except Exception as e:\n",
    "        print(f\"❌ Erro na execução da SQL: {e}\")\n",
    "        return\n",
    "\n",
    "    # Gerar resposta final com role Human (Assistente de Dados)\n",
    "    response_chain = prompt_response | llm\n",
    "    response_result = response_chain.invoke({\n",
    "        \"question\": question,\n",
    "        \"result\": result_df\n",
    "    })\n",
    "    \n",
    "    response = response_result.content.strip()\n",
    "\n",
    "    print(f\"\\n🤖 response:\\n{response}\")"
   ]
  },
  {
   "cell_type": "code",
   "execution_count": null,
   "id": "c2e0aa39-fa9d-4f28-a42d-622741d549af",
   "metadata": {},
   "outputs": [],
   "source": [
    "augmented_response(\"\")"
   ]
  }
 ],
 "metadata": {
  "kernelspec": {
   "display_name": "Python 3 (ipykernel)",
   "language": "python",
   "name": "python3"
  },
  "language_info": {
   "codemirror_mode": {
    "name": "ipython",
    "version": 3
   },
   "file_extension": ".py",
   "mimetype": "text/x-python",
   "name": "python",
   "nbconvert_exporter": "python",
   "pygments_lexer": "ipython3",
   "version": "3.8.10"
  }
 },
 "nbformat": 4,
 "nbformat_minor": 5
}
