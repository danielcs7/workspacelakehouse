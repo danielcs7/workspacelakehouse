{
 "cells": [
  {
   "cell_type": "code",
   "execution_count": 3,
   "id": "17cd78d7-092d-44e4-8aed-59aeb9b4a318",
   "metadata": {},
   "outputs": [],
   "source": [
    "## Referencias dos Dados"
   ]
  },
  {
   "cell_type": "markdown",
   "id": "990045a5-6568-4fef-94b6-f9521c91bece",
   "metadata": {},
   "source": [
    "### Tutorial Novo OlhoVivo\n",
    "Link: https://olhovivo.sptrans.com.br/files/TutorialNovoOlhoVivo.pdf\n",
    "\n",
    "### API\n",
    "Link: https://www.sptrans.com.br/desenvolvedores/api-do-olho-vivo-guia-de-referencia/"
   ]
  },
  {
   "cell_type": "code",
   "execution_count": null,
   "id": "0cf3da84-9b18-41c0-807d-ed5b0ada7a26",
   "metadata": {},
   "outputs": [],
   "source": []
  },
  {
   "cell_type": "markdown",
   "id": "cee89342-cfc4-49d8-844f-526e48113363",
   "metadata": {},
   "source": [
    "## Referencias e Ferramentas"
   ]
  },
  {
   "cell_type": "markdown",
   "id": "3c7ddcbe-ac3f-4b8f-bb6b-6d46418b88b7",
   "metadata": {},
   "source": [
    "### What is AI alignment?\n",
    "Link: https://www.ibm.com/think/topics/ai-alignment\n",
    "\n",
    "### Qdrant Setup\n",
    "Link: https://python.langchain.com/docs/integrations/vectorstores/qdrant/\n",
    "\n",
    "### LangChin + Qdrant\n",
    "Link: https://api.python.langchain.com/en/latest/qdrant/langchain_qdrant.qdrant.QdrantVectorStore.html\n",
    "\n",
    "### LangChin + ChatOllama\n",
    "Link: https://python.langchain.com/docs/integrations/chat/ollama/\n",
    "\n",
    "### ChatOllama + Mistral\n",
    "Link: https://python.langchain.com/api_reference/ollama/chat_models/langchain_ollama.chat_models.ChatOllama.html\n",
    "\n",
    "### Mistral 7B + Ollama\n",
    "Link: https://ollama.com/library/mistral\n"
   ]
  }
 ],
 "metadata": {
  "kernelspec": {
   "display_name": "Python 3 (ipykernel)",
   "language": "python",
   "name": "python3"
  },
  "language_info": {
   "codemirror_mode": {
    "name": "ipython",
    "version": 3
   },
   "file_extension": ".py",
   "mimetype": "text/x-python",
   "name": "python",
   "nbconvert_exporter": "python",
   "pygments_lexer": "ipython3",
   "version": "3.8.10"
  }
 },
 "nbformat": 4,
 "nbformat_minor": 5
}
