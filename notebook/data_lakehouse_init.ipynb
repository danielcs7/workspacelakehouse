{
 "cells": [
  {
   "cell_type": "code",
   "execution_count": null,
   "id": "1d98a1ed-03e4-4daa-8b4c-b50099bebdb6",
   "metadata": {},
   "outputs": [],
   "source": [
    "from pyspark.sql import SparkSession\n",
    "spark = SparkSession.builder\\\n",
    "    .appName('init_env') \\\n",
    "    .config(\"spark.sql.extensions\", \"org.apache.iceberg.spark.extensions.IcebergSparkSessionExtensions\") \\\n",
    "    .getOrCreate()\n",
    "\n",
    "#Ajuste de log WARN log para ERROR\n",
    "spark.sparkContext.setLogLevel(\"ERROR\")"
   ]
  },
  {
   "cell_type": "code",
   "execution_count": null,
   "id": "2f9e7bd8-ca7d-42f2-9b72-fd903ad69ddd",
   "metadata": {},
   "outputs": [],
   "source": [
    "# Criar Schemas\n",
    "schema_list = ['bronze','silver','gold']\n",
    "\n",
    "for schema in schema_list:\n",
    "    spark.sql(f\"\"\"\n",
    "        CREATE DATABASE IF NOT EXISTS iceberg.{schema} COMMENT '' LOCATION 's3a://datalake/iceberg/{schema}/'\n",
    "    \"\"\")"
   ]
  },
  {
   "cell_type": "code",
   "execution_count": null,
   "id": "cf793edd-db9d-4bf3-a41d-511b663635d4",
   "metadata": {},
   "outputs": [],
   "source": [
    "### Listar catalogs\n",
    "spark.sql(\"SHOW databases\").show()"
   ]
  },
  {
   "cell_type": "code",
   "execution_count": null,
   "id": "d33d406b-f3a3-40bb-b625-de8f6e706e84",
   "metadata": {},
   "outputs": [],
   "source": [
    "### Criar tabela teste\n",
    "query = f\"\"\"CREATE TABLE IF NOT EXISTS iceberg.bronze.nyc_taxis\n",
    "(\n",
    "  vendor_id bigint,\n",
    "  trip_id bigint,\n",
    "  trip_distance float,\n",
    "  fare_amount double,\n",
    "  store_and_fwd_flag string\n",
    ")\n",
    "PARTITIONED BY (vendor_id);\"\"\"\n",
    "spark.sql(query)"
   ]
  },
  {
   "cell_type": "code",
   "execution_count": null,
   "id": "be4faf6b-691d-4c28-8362-cb97b87951d6",
   "metadata": {},
   "outputs": [],
   "source": [
    "### Listar tablels em um schema\n",
    "spark.sql(\"SHOW TABLES IN iceberg.bronze\").show()\n"
   ]
  },
  {
   "cell_type": "code",
   "execution_count": null,
   "id": "6d39d9a7-6bdc-434a-80b1-1add2ebe78b2",
   "metadata": {},
   "outputs": [],
   "source": [
    "## Inserir valores\n",
    "query = f\"\"\"INSERT INTO iceberg.bronze.nyc_taxis\n",
    "VALUES (2, 1000371, 1.8, 15.32, 'Y'), (3, 1000372, 2.5, 22.15, 'N'), (5, 1000373, 0.9, 9.01, 'N'), (6, 1000374, 8.4, 42.13, 'Y');\"\"\"\n",
    "\n",
    "display(spark.sql(query))"
   ]
  },
  {
   "cell_type": "code",
   "execution_count": null,
   "id": "8974b539-f275-487d-8f70-ee445b05d1e8",
   "metadata": {},
   "outputs": [],
   "source": [
    "## Consultar dado\n",
    "spark.sql(\"SELECT * FROM iceberg.bronze.nyc_taxis where store_and_fwd_flag ='Y' \").show()"
   ]
  },
  {
   "cell_type": "code",
   "execution_count": null,
   "id": "937af7fc-6c6d-4239-9ca1-547b98c70119",
   "metadata": {},
   "outputs": [],
   "source": [
    "partitions = spark.sql(\"SELECT * FROM iceberg.bronze.nyc_taxis.history\").show()\n"
   ]
  },
  {
   "cell_type": "code",
   "execution_count": null,
   "id": "0f7ad0ea-dff7-4bfa-8cd7-f199de138b21",
   "metadata": {},
   "outputs": [],
   "source": [
    "spark.stop()"
   ]
  }
 ],
 "metadata": {
  "kernelspec": {
   "display_name": "Python 3 (ipykernel)",
   "language": "python",
   "name": "python3"
  },
  "language_info": {
   "codemirror_mode": {
    "name": "ipython",
    "version": 3
   },
   "file_extension": ".py",
   "mimetype": "text/x-python",
   "name": "python",
   "nbconvert_exporter": "python",
   "pygments_lexer": "ipython3",
   "version": "3.8.10"
  }
 },
 "nbformat": 4,
 "nbformat_minor": 5
}
