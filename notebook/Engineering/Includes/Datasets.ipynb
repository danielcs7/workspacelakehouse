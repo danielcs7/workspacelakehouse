{
 "cells": [
  {
   "cell_type": "markdown",
   "id": "e8912dfb-62f7-45a3-8896-c8e81f555747",
   "metadata": {},
   "source": [
    "### DataFrame Inicial"
   ]
  },
  {
   "cell_type": "code",
   "execution_count": 5,
   "id": "3428c464-fdc9-4a30-baa6-41cdc68f3941",
   "metadata": {},
   "outputs": [],
   "source": [
    "from pyspark.sql.types import StringType, StructField"
   ]
  },
  {
   "cell_type": "code",
   "execution_count": 6,
   "id": "67445197-28c7-4760-9b05-f7835b46b3e2",
   "metadata": {},
   "outputs": [],
   "source": [
    "# Definir Schema DataFrame inicial\n",
    "columns_schema = [\n",
    "    StructField(\"order_number\", StringType(), True),\n",
    "    StructField(\"order_date\", StringType(), True),\n",
    "    StructField(\"qty_ordered\", StringType(), True),\n",
    "    StructField(\"unit_price\", StringType(), True),\n",
    "    StructField(\"status\", StringType(), True),\n",
    "    StructField(\"product_id\", StringType(), True),\n",
    "    StructField(\"product_line_id\", StringType(), True),\n",
    "    StructField(\"country\", StringType(), True)\n",
    "]"
   ]
  },
  {
   "cell_type": "code",
   "execution_count": 7,
   "id": "ba0de69c-c326-47d8-bc69-af3a10e2f26f",
   "metadata": {},
   "outputs": [],
   "source": [
    "# Amostra de dados DataFrame inicial\n",
    "init_data = [\n",
    "    (10168,\"2024-01-23\",5,98.115,\"Disputed\",\"S10_1949\",1002,\"France\"),\n",
    "    (10180,\"2024-01-22\",1,951.87,\"In Process\",\"S10_2016\",1002,\"Norway\"),\n",
    "    (10188,\"2024-01-21\",65,95.202,\"Cancelled\",\"S10_4698\",1002,\"Australia\"),\n",
    "    (10201,\"2024-01-26\",8,951.17,\"On Hold\",\"S10_4757\",1221,\"Finland\"),\n",
    "]"
   ]
  },
  {
   "cell_type": "markdown",
   "id": "05914302-e5d2-4a9c-bee6-3c44b9c12c45",
   "metadata": {},
   "source": [
    "### Novos dados de Fevereiro-2024"
   ]
  },
  {
   "cell_type": "code",
   "execution_count": null,
   "id": "affde01e-aeea-4e06-92d2-d8d26f4a3ce8",
   "metadata": {},
   "outputs": [],
   "source": [
    "feb_data = [\n",
    "    (10223,\"2024-02-05\",7,956.84,\"In Process\",\"S12_1099\",1221,\"UK\"),\n",
    "    (10237,\"2024-02-10\",29,959.96,\"Resolved\",\"S12_1108\",1221,\"Spain\"),\n",
    "    (10251,\"2024-02-15\",54,960.41,\"Resolved\",\"S12_1666\",1001,\"Sweden\"),\n",
    "    (10263,\"2024-02-16\",5,961.98,\"On Hold\",\"S12_2823\",1001,\"Singapore\"),\n",
    "    (10275,\"2024-02-17\",12,96.142,\"Shipped\",\"S12_3148\",1001,\"Canada\"),\n",
    "]"
   ]
  },
  {
   "cell_type": "markdown",
   "id": "7dcb09d6-4eed-4b4a-93c0-65f64ba84f6c",
   "metadata": {},
   "source": [
    "### Novos dados de Março-2024"
   ]
  },
  {
   "cell_type": "code",
   "execution_count": null,
   "id": "abd54cbd-c952-4037-bd8a-5ac7dfb0eecf",
   "metadata": {},
   "outputs": [],
   "source": [
    "mar_data = [\n",
    "    (10211,\"2024-03-15\",34,95.195,\"Resolved\",\"S10_4962\",1221,\"Austria\"),    \n",
    "    (10309,\"2024-03-03\",981,96.430,\"Shipped\",\"S12_3990\",1001,\"Denmark\"),\n",
    "    (10318,\"2024-03-04\",364,1043.22,\"On Hold\",\"S12_4473\",1004,\"Belgium\"),\n",
    "    (10329,\"2024-03-08\",25,1046.67,\"Shipped\",\"S12_4675\",1004,\"Philippines\"),\n",
    "]"
   ]
  },
  {
   "cell_type": "markdown",
   "id": "d612eb60-7dd6-4b6c-9128-0ab7f1655217",
   "metadata": {},
   "source": [
    "### Novos dados de Abril-2024"
   ]
  },
  {
   "cell_type": "code",
   "execution_count": null,
   "id": "6b766a0c-2add-4d2c-aeda-5a2fa3f09aa5",
   "metadata": {},
   "outputs": [],
   "source": [
    "apr_data = [\n",
    "    (10341,\"2024-04-17\",4,1047.34,\"Shipped\",\"S18_1097\",1004,\"Germany\"),\n",
    "    (10361,\"2024-04-23\",1,1047.99,\"On Hold\",\"S18_1129\",1004,\"Switzerland\"),\n",
    "    (10375,\"2024-04-26\",58,1048.47,\"Disputed\",\"S18_1342\",1004,\"Ireland\"),\n",
    "    (10388,\"2024-04-11\",247,1049.38,\"Disputed\",\"S18_1367\",1004,\"Brazil\"),\n",
    "    (10401,\"2024-04-23\",10,1047.99,\"On Hold\",\"S18_1129\",1004,\"Switzerland\"),\n",
    "]"
   ]
  },
  {
   "cell_type": "code",
   "execution_count": null,
   "id": "109c711b-fc9a-48d9-8f16-b2f7c34b6e75",
   "metadata": {},
   "outputs": [],
   "source": [
    "lista_amostras = ['columns_schema','init_data','feb_data','mar_data','apr_data']"
   ]
  },
  {
   "cell_type": "code",
   "execution_count": null,
   "id": "ddac8b11-339b-486e-a5bc-e4c6133b0bb1",
   "metadata": {},
   "outputs": [],
   "source": [
    "display(HTML(\"\"\"\n",
    "    Recursos disponiveis: Um schema, 4 amostras de dados compativeis com schema. <br>\n",
    "    Você pode acessa-las pelo index da array <b><i>lista_amostras</i></b> ou indivialmente pelos seus respectivos nomes\n",
    "        <li><span style=\"color:red; font-weight:bold\">columns_schema</span></li>\n",
    "        <li><span style=\"color:green; font-weight:bold\">init_data</span></li>\n",
    "        <li><span style=\"color:green; font-weight:bold\">feb_data</span></li>\n",
    "        <li><span style=\"color:green; font-weight:bold\">mar_data</span></li>\n",
    "        <li><span style=\"color:green; font-weight:bold\">apr_data</span></li>\n",
    "\"\"\"))"
   ]
  }
 ],
 "metadata": {
  "kernelspec": {
   "display_name": "Python 3 (ipykernel)",
   "language": "python",
   "name": "python3"
  },
  "language_info": {
   "codemirror_mode": {
    "name": "ipython",
    "version": 3
   },
   "file_extension": ".py",
   "mimetype": "text/x-python",
   "name": "python",
   "nbconvert_exporter": "python",
   "pygments_lexer": "ipython3",
   "version": "3.8.10"
  }
 },
 "nbformat": 4,
 "nbformat_minor": 5
}
