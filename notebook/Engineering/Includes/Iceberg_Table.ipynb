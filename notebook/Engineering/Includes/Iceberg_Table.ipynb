{
 "cells": [
  {
   "cell_type": "code",
   "execution_count": 18,
   "id": "37f67606-d702-4597-95cb-e1abc09b810d",
   "metadata": {},
   "outputs": [
    {
     "data": {
      "text/html": [
       "\n",
       "<style>\n",
       "    .code-box {\n",
       "        background-color: #f8f9fa !important; \n",
       "        border: 1px solid #ced4da !important;\n",
       "        border-radius: 5px !important;\n",
       "        padding: 10px !important;\n",
       "        font-family: Consolas, Monaco, \"Andale Mono\", \"Ubuntu Mono\", monospace !important;\n",
       "        color: #28a745 !important;\n",
       "        overflow-x: auto;    }\n",
       "\n",
       "   \n",
       "    .code-box code {\n",
       "        background: transparent !important;     \n",
       "        color: #28a745 !important;              \n",
       "    }\n",
       "</style>\n",
       "<pre class=\"code-box\"><code>\n",
       "\n",
       "+--------------------------+ \n",
       "|      Metadata File       |\n",
       "+--------------------------+\n",
       "              |\n",
       "              v\n",
       "    +---------------------+     \n",
       "    |   Manifest List     |\n",
       "    +---------------------+\n",
       "              |\n",
       "              v\n",
       "    +------------------+-------------------+\n",
       "    |                  |                   |\n",
       "    v                  v                   v\n",
       "+-----------+     +-----------+     +-----------+\n",
       "| Manifest  |     | Manifest  |     | Manifest  |\n",
       "+-----------+     +-----------+     +-----------+\n",
       "      |                 |                 |\n",
       "      v                 v                 v\n",
       "+-----------+     +-----------+     +-----------+\n",
       "| Dados     |     |  Dados    |     |  Dados    |\n",
       "+-----------+     +-----------+     +-----------+\n",
       "\n",
       "</code></pre>\n"
      ],
      "text/plain": [
       "<IPython.core.display.HTML object>"
      ]
     },
     "metadata": {},
     "output_type": "display_data"
    }
   ],
   "source": [
    "display(HTML('''\n",
    "<style>\n",
    "    .code-box {\n",
    "        background-color: #f8f9fa !important; \n",
    "        border: 1px solid #ced4da !important;\n",
    "        border-radius: 5px !important;\n",
    "        padding: 10px !important;\n",
    "        font-family: Consolas, Monaco, \"Andale Mono\", \"Ubuntu Mono\", monospace !important;\n",
    "        color: #28a745 !important;\n",
    "        overflow-x: auto;    }\n",
    "\n",
    "   \n",
    "    .code-box code {\n",
    "        background: transparent !important;     \n",
    "        color: #28a745 !important;              \n",
    "    }\n",
    "</style>\n",
    "<pre class=\"code-box\"><code>\n",
    "\n",
    "+--------------------------+ \n",
    "|      Metadata File       |\n",
    "+--------------------------+\n",
    "              |\n",
    "              v\n",
    "    +---------------------+     \n",
    "    |   Manifest List     |\n",
    "    +---------------------+\n",
    "              |\n",
    "              v\n",
    "    +------------------+-------------------+\n",
    "    |                  |                   |\n",
    "    v                  v                   v\n",
    "+-----------+     +-----------+     +-----------+\n",
    "| Manifest  |     | Manifest  |     | Manifest  |\n",
    "+-----------+     +-----------+     +-----------+\n",
    "      |                 |                 |\n",
    "      v                 v                 v\n",
    "+-----------+     +-----------+     +-----------+\n",
    "| Dados     |     |  Dados    |     |  Dados    |\n",
    "+-----------+     +-----------+     +-----------+\n",
    "\n",
    "</code></pre>\n",
    "'''))"
   ]
  },
  {
   "cell_type": "code",
   "execution_count": null,
   "id": "638354cc-934d-4a26-88ec-b8785c206826",
   "metadata": {},
   "outputs": [],
   "source": []
  },
  {
   "cell_type": "code",
   "execution_count": null,
   "id": "01154e6f-485c-4cf9-a87e-b7b512cbd272",
   "metadata": {},
   "outputs": [],
   "source": []
  }
 ],
 "metadata": {
  "kernelspec": {
   "display_name": "Python 3 (ipykernel)",
   "language": "python",
   "name": "python3"
  },
  "language_info": {
   "codemirror_mode": {
    "name": "ipython",
    "version": 3
   },
   "file_extension": ".py",
   "mimetype": "text/x-python",
   "name": "python",
   "nbconvert_exporter": "python",
   "pygments_lexer": "ipython3",
   "version": "3.8.10"
  }
 },
 "nbformat": 4,
 "nbformat_minor": 5
}
