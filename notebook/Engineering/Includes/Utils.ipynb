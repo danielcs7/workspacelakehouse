{
 "cells": [
  {
   "cell_type": "code",
   "execution_count": null,
   "id": "caa85a1b-4d32-4184-87f7-01ae527da61f",
   "metadata": {},
   "outputs": [],
   "source": [
    "# Função para criar novos dataframes\n",
    "from pyspark.sql.types import StructType\n",
    "from pyspark.sql import DataFrame\n",
    "\n",
    "def create_dataframe(schema: list, data: list) -> DataFrame:\n",
    "    \"\"\"This function will creates new Pyspark DataFrames.\n",
    "\n",
    "    Args:\n",
    "        schema (list): Uma lista com a estrutura da tabela ou schema\n",
    "        data (list): Uma lista com os dados no formato do schema\n",
    "    Returns:\n",
    "        df: Retorna um DataFrame do Pyspark\n",
    "\n",
    "    Snippet:\n",
    "        my_df = create_dataframe(my_schema, my_data)\n",
    "    \n",
    "    \"\"\"\n",
    "    try:\n",
    "        if schema != None and data != None:\n",
    "            schema_df = StructType(schema)\n",
    "            df = spark.createDataFrame(data, schema_df)\n",
    "        \n",
    "        return(df)\n",
    "    except Exception as Error:\n",
    "        print(f\"Something went wrong: {Error}\")  "
   ]
  },
  {
   "cell_type": "code",
   "execution_count": null,
   "id": "db9ed461-c739-42ff-8b89-83df70722ab4",
   "metadata": {},
   "outputs": [],
   "source": [
    "display(HTML('''\n",
    "<style>\n",
    "    .code-box {\n",
    "        background-color: #f8f9fa !important; \n",
    "        border: 1px solid #ced4da !important;\n",
    "        border-radius: 5px !important;\n",
    "        padding: 10px !important;\n",
    "        font-family: Consolas, Monaco, \"Andale Mono\", \"Ubuntu Mono\", monospace !important;\n",
    "        color: #28a745 !important;\n",
    "        overflow-x: auto;    }\n",
    "\n",
    "    /* Estilo adicional para o código dentro da caixa */\n",
    "    .code-box code {\n",
    "        background: transparent !important;     /* Remove fundo do código */\n",
    "        color: #28a745 !important;              /* Cor do texto verde */\n",
    "    }\n",
    "</style>\n",
    "<pre class=\"code-box\"><code>\n",
    "# Função para criar novos DFs disponivel, Para acessar a Docstring\n",
    "create_dataframe?   \n",
    "\n",
    "# Ou\n",
    "help(create_dataframe)\n",
    "</code></pre>\n",
    "'''))"
   ]
  }
 ],
 "metadata": {
  "kernelspec": {
   "display_name": "Python 3 (ipykernel)",
   "language": "python",
   "name": "python3"
  },
  "language_info": {
   "codemirror_mode": {
    "name": "ipython",
    "version": 3
   },
   "file_extension": ".py",
   "mimetype": "text/x-python",
   "name": "python",
   "nbconvert_exporter": "python",
   "pygments_lexer": "ipython3",
   "version": "3.8.10"
  }
 },
 "nbformat": 4,
 "nbformat_minor": 5
}
