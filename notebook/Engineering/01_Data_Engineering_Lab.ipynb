{
 "cells": [
  {
   "cell_type": "code",
   "execution_count": null,
   "id": "411dd29b-8178-46c2-b259-28fce0fd6057",
   "metadata": {},
   "outputs": [],
   "source": [
    "from pyspark.sql import SparkSession\n",
    "spark = SparkSession.builder \\\n",
    "    .appName('dataincode') \\\n",
    "    .config(\"spark.jars\", \"/opt/spark/jars/iceberg-spark-runtime-3.5_2.12-1.6.0.jar\") \\\n",
    "    .config(\"spark.sql.extensions\", \"org.apache.iceberg.spark.extensions.IcebergSparkSessionExtensions\") \\\n",
    "    .config(\"spark.sql.catalog.local\", \"org.apache.iceberg.spark.SparkCatalog\") \\\n",
    "    .config(\"spark.sql.catalog.spark_catalog.type\", \"hive\") \\\n",
    "    .config(\"spark.sql.catalog.local.warehouse\", \"s3a://datalake/iceberg\") \\\n",
    "    .getOrCreate()\n",
    "\n",
    "#Ajuste de log WARN log para ERROR\n",
    "spark.sparkContext.setLogLevel(\"ERROR\")"
   ]
  },
  {
   "cell_type": "code",
   "execution_count": null,
   "id": "32f4a187-90c8-4c20-99e3-41def3c84091",
   "metadata": {},
   "outputs": [],
   "source": [
    "# Importar funções \n",
    "from IPython.display import display, HTML"
   ]
  },
  {
   "cell_type": "code",
   "execution_count": null,
   "id": "cede674d-85dd-49f7-9f3c-0174ae17b033",
   "metadata": {},
   "outputs": [],
   "source": [
    "%run ./Includes/Utils.ipynb"
   ]
  },
  {
   "cell_type": "code",
   "execution_count": null,
   "id": "7e7047d7-f97c-4266-90e9-3be3aec038b5",
   "metadata": {},
   "outputs": [],
   "source": [
    "%run ./Includes/Datasets.ipynb"
   ]
  },
  {
   "cell_type": "markdown",
   "id": "6cae9d19-bf4b-4c65-8c37-ba905732962b",
   "metadata": {},
   "source": [
    "## Criar Dataframes e escrever tabelas no catalogo"
   ]
  },
  {
   "cell_type": "code",
   "execution_count": null,
   "id": "6b823115-be5c-4fe7-905a-3cbd2e7f37cd",
   "metadata": {},
   "outputs": [],
   "source": [
    "# Inicio rapido\n",
    "\n",
    "# help(create_dataframe)\n",
    "# print(lista_amostras)\n",
    "create_dataframe?"
   ]
  },
  {
   "cell_type": "code",
   "execution_count": null,
   "id": "8419e104-9bbf-481c-b580-23ea8e54f602",
   "metadata": {},
   "outputs": [],
   "source": [
    "init_data_df = create_dataframe(columns_schema, init_data)"
   ]
  },
  {
   "cell_type": "code",
   "execution_count": null,
   "id": "ffb084ab-7c62-4fab-b1fe-916ab8e62900",
   "metadata": {},
   "outputs": [],
   "source": [
    "init_data_df.show(5)"
   ]
  },
  {
   "cell_type": "code",
   "execution_count": null,
   "id": "9dd01b09-d285-4fb9-94f5-a12d18f0832c",
   "metadata": {},
   "outputs": [],
   "source": [
    "spark.sql(\"USE iceberg\").show()"
   ]
  },
  {
   "cell_type": "code",
   "execution_count": null,
   "id": "9319f2f6-ba57-467e-b017-a6a6750870df",
   "metadata": {},
   "outputs": [],
   "source": [
    "spark.sql(\"show catalogs\").show()"
   ]
  },
  {
   "cell_type": "markdown",
   "id": "f8cbff15-7158-4b4d-9262-082762c66e27",
   "metadata": {},
   "source": [
    "### Criar Tabela\n",
    "- ``` df.writeTo(t).create() ``` é equivalente a ``` CREATE TABLE AS SELECT ```\n",
    "- ``` df.writeTo(t).replace() ``` é equivalente a ``` REPLACE TABLE AS SELECT ```\n",
    "- ``` df.writeTo(t).append() ``` é equivalente a ``` INSERT INTO ```\n",
    "- ``` df.writeTo(t).overwritePartitions() ``` é equivalente a dynamic ``` INSERT OVERWRITE ```\n",
    "fonte: https://iceberg.apache.org/docs/1.6.0/spark-writes/?h=df.writeto%28t%29.create%28%29#writing-with-dataframes"
   ]
  },
  {
   "cell_type": "code",
   "execution_count": null,
   "id": "2208eec6-2f6f-47bc-8f7e-6722dc33f11e",
   "metadata": {},
   "outputs": [],
   "source": [
    "# Escrever tabela no storage\n",
    "(\n",
    "    init_data_df\n",
    "    .writeTo(\"iceberg.bronze.vendas\")\n",
    "    .partitionedBy(\"country\")\n",
    "    .createOrReplace()\n",
    ")"
   ]
  },
  {
   "cell_type": "code",
   "execution_count": null,
   "id": "891ec1f6-7ab6-417d-8b54-9c31054842ca",
   "metadata": {},
   "outputs": [],
   "source": [
    "spark.sql(\"SHOW TABLES in bronze\").show()"
   ]
  },
  {
   "cell_type": "code",
   "execution_count": null,
   "id": "7de5655e-1228-4a2a-8475-b68ffe3c81be",
   "metadata": {},
   "outputs": [],
   "source": [
    "## Visualizar os dados simples e leve\n",
    "\n",
    "spark.sql(\"SELECT * FROM iceberg.bronze.vendas\").show()"
   ]
  },
  {
   "cell_type": "code",
   "execution_count": null,
   "id": "e55dfc2e-9a43-46d1-b724-31ccd4f2e13d",
   "metadata": {},
   "outputs": [],
   "source": [
    "## Visualizar os dados\n",
    "\n",
    "spark.sql(\"SELECT * FROM iceberg.bronze.vendas\").toPandas()"
   ]
  },
  {
   "cell_type": "code",
   "execution_count": null,
   "id": "b60da4c6-e0df-4484-abb5-d6265e1d2153",
   "metadata": {},
   "outputs": [],
   "source": [
    "## Inserir novos dados\n",
    "\n",
    "feb_data_df = create_dataframe(columns_schema, feb_data)\n",
    "\n",
    "feb_data_df.writeTo(\"iceberg.bronze.vendas\").append()"
   ]
  },
  {
   "cell_type": "markdown",
   "id": "cdd1979c-f850-4921-aa2a-48760bad79ca",
   "metadata": {},
   "source": [
    "### Primeiras Impressões"
   ]
  },
  {
   "cell_type": "code",
   "execution_count": null,
   "id": "c3b79651-d9e2-478d-b56c-d9c399047d12",
   "metadata": {},
   "outputs": [],
   "source": [
    "## Descrever tabela\n",
    "\n",
    "spark.sql(\"DESCRIBE iceberg.bronze.vendas\").show()"
   ]
  },
  {
   "cell_type": "code",
   "execution_count": null,
   "id": "3befd7c7-de5c-48ec-8a2c-e4fb589b1b5c",
   "metadata": {},
   "outputs": [],
   "source": [
    "## Inspecionar tabelas\n",
    "\n",
    "spark.sql(\"SELECT * FROM iceberg.bronze.vendas.history\").show()"
   ]
  },
  {
   "cell_type": "code",
   "execution_count": null,
   "id": "858756f9-2a1c-43ff-baf4-0b79ae282b07",
   "metadata": {},
   "outputs": [],
   "source": [
    "spark.sql(\"SHOW TBLPROPERTIES iceberg.bronze.vendas\").toPandas()"
   ]
  },
  {
   "cell_type": "code",
   "execution_count": null,
   "id": "a3dd43b3-7f73-409f-bf01-47aa12482562",
   "metadata": {},
   "outputs": [],
   "source": [
    "spark.sql(\"SELECT COUNT(*) FROM iceberg.bronze.vendas\").show()"
   ]
  },
  {
   "cell_type": "markdown",
   "id": "3dd44665-4f6d-4335-b22d-56c0754f23f1",
   "metadata": {},
   "source": [
    "## Testes"
   ]
  },
  {
   "cell_type": "code",
   "execution_count": null,
   "id": "46c9af6b-e037-4943-8b06-afc87c368fec",
   "metadata": {},
   "outputs": [],
   "source": [
    "## Para deletar por completo do catalog e storage\n",
    "spark.sql(\"DROP TABLE iceberg.bronze.vendas PURGE\")"
   ]
  },
  {
   "cell_type": "code",
   "execution_count": null,
   "id": "bf4b66d1-fb25-4713-99f6-6c82b0a83b62",
   "metadata": {},
   "outputs": [],
   "source": [
    "spark.stop()"
   ]
  }
 ],
 "metadata": {
  "kernelspec": {
   "display_name": "Python 3 (ipykernel)",
   "language": "python",
   "name": "python3"
  },
  "language_info": {
   "codemirror_mode": {
    "name": "ipython",
    "version": 3
   },
   "file_extension": ".py",
   "mimetype": "text/x-python",
   "name": "python",
   "nbconvert_exporter": "python",
   "pygments_lexer": "ipython3",
   "version": "3.8.10"
  }
 },
 "nbformat": 4,
 "nbformat_minor": 5
}
