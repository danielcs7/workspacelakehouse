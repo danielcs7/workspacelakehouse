{
 "cells": [
  {
   "cell_type": "markdown",
   "id": "593b11e5-7a0f-47c7-9ddf-819c9be0773d",
   "metadata": {},
   "source": [
    "### Branching and Tagging - Visão Geral\n",
    "\n",
    "As tabelas do Iceberg matem um log de snapshots, que por sua vez representão as mudanças aplicadas na tabela.\n",
    "Os snapshots são fundamentais no formato de tabela Iceberg, pois eles garantem o isolamento das consultas/queries e permitem o \"time travel\" entre as diferentes \"versões de dados\" da tabela.\n",
    "\n",
    "Para carontrolar o tamanho dos metadados e custos de armazenamento, Iceberg fornece um gerenciamento de ciclo de vida de snapshots. Que pode ser executado via procedures como **_expire_snapshots_** para remoção de de arquivos de dados não utilizados com base nas propriedades dos snapshots.\n",
    "\n",
    "Para possibilidar o gerenciamento de ciclo de vidade de snapshots. O Iceberg suporta Branches e Tags, Esses recursos garantem que os snapshots tenham seus proprios ciclos de vida que por sua vez podem ser controlados por politicas de retenção em nivel de Branch e tag.\n",
    "\n",
    "**Branches (Ramificações):** São referências mutáveis que podem ser atualizadas para apontar para um novo snapshot. Isso significa que uma branch pode evoluir ao longo do tempo, acompanhando as mudanças na tabela. Uma branch é como uma linha de desenvolvimento independente, permitindo que você faça alterações sem afetar a \"linha principal\" de desenvolvimento (main branch).\n",
    "\n",
    "**Tags (Etiquetas):** São referências imutáveis a um snapshot específico. Uma vez criada, uma tag sempre apontará para o mesmo snapshot, independentemente de quaisquer alterações subsequentes na tabela. As tags servem como marcadores fixos no tempo, permitindo que você retorne a um estado específico da tabela com facilidade.\n",
    "\n",
    "fonte: https://iceberg.apache.org/docs/1.6.1/branching/"
   ]
  },
  {
   "attachments": {},
   "cell_type": "markdown",
   "id": "ad0b9c5c-6cc5-4117-a47f-24569690f868",
   "metadata": {},
   "source": [
    "### Write-Audit-Publish (WAP)\n",
    "\n",
    "Com as Branches você poderá perfeitamente controlar e gerenciar as versões dos seus dados de forma isolada,\n",
    "assim como ocorre na Engenharia de Software com os códigos.\n",
    "A partir de agora, com Apache Iceberg podemos falar do padrão de engenharia de dados WAP, de forma mais clara,\n",
    "que visa garantir a qualidade dos dados antes de disponibiliza-los para o consumo.<br>\n",
    "\n",
    "O padrão Write-Audit-Publish (WAP) é uma prática recomendada para garantir a qualidade dos dados em pipelines de dados.\n",
    "É semelhante aos fluxos de trabalho de Integração Contínua e Entrega (CI/CD) comuns no desenvolvimento de software.\n",
    "\n",
    "**Write (Escrita):** Os dados são gravados inicialmente em um local de teste ou staging, em vez de serem gravados diretamente na\n",
    "tabela principal. Isso isola os dados de produção de possíveis inconsistências. No Apache Iceberg, isso geralmente é feito\n",
    "gravando em um branch separado da tabela principal.\n",
    "\n",
    "**Audit (Auditoria):**  Uma vez que os dados estão em staging, eles são submetidos a um processo de validação completo para garantir que atendam aos padrões de qualidade. Isso pode incluir a verificação de valores nulos ou duplicados, validação de tipos\n",
    "de dados e verificação da integridade dos dados. Qualquer ferramenta de qualidade de dados pode ser usada para essa etapa.\n",
    "\n",
    "**Publish (Publicação):**  Após a validação, os dados são promovidos para a tabela de produção. No Iceberg, isso geralmente é feito por meio de um fast-forward da branch de staging para o branch principal. \n",
    "\n",
    "![ci/cd](https://www.tabular.io/wp-content/uploads/2024/01/image1-1024x182.png) <br>\n",
    "\n",
    "fonte: https://www.tabular.io/apache-iceberg-cookbook/data-engineering-write-audit-publish/"
   ]
  },
  {
   "cell_type": "markdown",
   "id": "12e19af8-548a-451a-9d50-7edbd000f6c0",
   "metadata": {},
   "source": [
    "### Carregar Recursos"
   ]
  },
  {
   "cell_type": "code",
   "execution_count": null,
   "id": "ebae8ed3-dbb2-40bb-9efb-6cbec2fc3921",
   "metadata": {},
   "outputs": [],
   "source": [
    "from pyspark.sql import SparkSession\n",
    "spark = SparkSession.builder \\\n",
    "    .appName('dataincode') \\\n",
    "    .config(\"spark.jars\", \"/opt/spark/jars/iceberg-spark-runtime-3.5_2.12-1.6.0.jar\") \\\n",
    "    .config(\"spark.sql.extensions\", \"org.apache.iceberg.spark.extensions.IcebergSparkSessionExtensions\") \\\n",
    "    .config(\"spark.sql.catalog.local\", \"org.apache.iceberg.spark.SparkCatalog\") \\\n",
    "    .config(\"spark.sql.catalog.spark_catalog.type\", \"hive\") \\\n",
    "    .config(\"spark.sql.catalog.local.warehouse\", \"s3a://datalake/iceberg\") \\\n",
    "    .getOrCreate()\n",
    "\n",
    "#Ajuste de log WARN log para ERROR\n",
    "spark.sparkContext.setLogLevel(\"ERROR\")"
   ]
  },
  {
   "cell_type": "code",
   "execution_count": null,
   "id": "02004842-e7e5-4dfd-8552-be8c2edfedb9",
   "metadata": {},
   "outputs": [],
   "source": [
    "# Importar funções \n",
    "from IPython.display import display, HTML"
   ]
  },
  {
   "cell_type": "code",
   "execution_count": null,
   "id": "46e33edb-3383-481b-82bd-270d579f43e3",
   "metadata": {},
   "outputs": [],
   "source": [
    "%run ./Includes/Utils.ipynb"
   ]
  },
  {
   "cell_type": "code",
   "execution_count": null,
   "id": "a018d8e5-fe15-4829-997b-5b0df2772b52",
   "metadata": {},
   "outputs": [],
   "source": [
    "%run ./Includes/Datasets.ipynb"
   ]
  },
  {
   "cell_type": "code",
   "execution_count": null,
   "id": "bbf9d8cb-82fa-4e1c-b39a-773311fc1dc4",
   "metadata": {},
   "outputs": [],
   "source": [
    "spark.sql(\"USE iceberg\")"
   ]
  },
  {
   "cell_type": "code",
   "execution_count": null,
   "id": "c5a0771c-bca8-4709-9be8-706a4e87589f",
   "metadata": {},
   "outputs": [],
   "source": [
    "spark.sql(\"SHOW TABLES in bronze\").show()"
   ]
  },
  {
   "cell_type": "code",
   "execution_count": null,
   "id": "f2118fe1-0529-48d8-baeb-0c7cfeb9cec1",
   "metadata": {},
   "outputs": [],
   "source": [
    "spark.sql(\"SELECT count(*) FROM iceberg.bronze.vendas\").show()"
   ]
  },
  {
   "cell_type": "code",
   "execution_count": null,
   "id": "8be4cbbb-81c8-44c9-9f04-ae23fe77aa83",
   "metadata": {},
   "outputs": [],
   "source": [
    "## Listar branches da tabela\n",
    "\n",
    "spark.sql(\"SELECT * FROM iceberg.bronze.vendas.refs;\").toPandas()"
   ]
  },
  {
   "cell_type": "markdown",
   "id": "96f57465-6db0-49b2-955e-25554dce42b1",
   "metadata": {},
   "source": [
    "### Ativar o Write-Audit-Publish(WAP) e Criar a nova Branche"
   ]
  },
  {
   "cell_type": "code",
   "execution_count": null,
   "id": "13f612f9-d973-47a1-ae77-7cb63ed55d13",
   "metadata": {},
   "outputs": [],
   "source": [
    "## Ativar WAP\n",
    "spark.sql(\"\"\"\n",
    "    ALTER TABLE iceberg.bronze.vendas\n",
    "    SET TBLPROPERTIES (\n",
    "        'write.wap.enabled' = 'true'\n",
    "    )\"\"\"\n",
    ")"
   ]
  },
  {
   "cell_type": "code",
   "execution_count": null,
   "id": "ddd57b07-207b-4ff4-b38b-10e68a3b6bc6",
   "metadata": {},
   "outputs": [],
   "source": [
    "# Criar uma branch de desenvolvimento chamada etl_0\n",
    "\n",
    "spark.sql(\"ALTER TABLE iceberg.bronze.vendas CREATE BRANCH etl_0\")"
   ]
  },
  {
   "cell_type": "code",
   "execution_count": null,
   "id": "745b4853-a056-480e-b808-e1a7a10e7f7e",
   "metadata": {},
   "outputs": [],
   "source": [
    "# Criar uma branch chamada dev_etl\n",
    "\n",
    "# spark.sql(\"ALTER TABLE iceberg.bronze.vendas CREATE BRANCH etl_1\")"
   ]
  },
  {
   "cell_type": "markdown",
   "id": "0a0247d6-7582-45d4-8723-3a97dbd14652",
   "metadata": {},
   "source": [
    "### <span style=\"color:blue\"> Quando for trabalhar com as branches, é importante adicionar o prefixo``` branch_ ``` ao nome da nova branch </span>\n",
    "\n",
    "- <span style=\"color:red\">Cuidado para não inserir dados por engano na branch ``` main ``` </span>.\n",
    "- <span style=\"color:red\">Caso isso ocorra após a criação da branch de etl, você perderar a referencia da branch **'ancestral'** e não conseguirá fazer um merge </span>.\n",
    "- <span style=\"color:red\">Caso você perca a referencia do ultimo estado 'válido/correto' da tabela. Terá que fazer um rollback para o ultimo snapshot sem alterações </span>.\n"
   ]
  },
  {
   "cell_type": "markdown",
   "id": "16b99d22-87f3-41e0-8dcf-4cede46f68be",
   "metadata": {},
   "source": [
    "### Inspecionar tabela"
   ]
  },
  {
   "cell_type": "code",
   "execution_count": null,
   "id": "91e469ac-a818-4150-89c8-f1b86420bd93",
   "metadata": {},
   "outputs": [],
   "source": [
    "## Exibir os dados da brach etl_0 ===> Quando for listar uma branche é importante adicionar o prefixo branch_etl_0\n",
    "\n",
    "spark.sql(\"SELECT count(*) FROM iceberg.bronze.vendas.branch_main\").toPandas()"
   ]
  },
  {
   "cell_type": "code",
   "execution_count": null,
   "id": "0e7ac96d-c22e-4669-b0ce-8c16c0f3c325",
   "metadata": {},
   "outputs": [],
   "source": [
    "## Listar snapshots\n",
    "\n",
    "spark.sql(\"SELECT * FROM iceberg.bronze.vendas.snapshots;\").toPandas()"
   ]
  },
  {
   "cell_type": "code",
   "execution_count": null,
   "id": "3459d79d-d804-4535-9a85-92da33ff1f76",
   "metadata": {},
   "outputs": [],
   "source": [
    "## Listar tabela por versão main\n",
    "spark.sql(\"SELECT count(*) FROM iceberg.bronze.vendas VERSION AS OF 'main' \").toPandas()"
   ]
  },
  {
   "cell_type": "code",
   "execution_count": null,
   "id": "0122c5d5-d905-4a5f-a097-551559010045",
   "metadata": {},
   "outputs": [],
   "source": [
    "## Listar tabela por versão dev_etl\n",
    "spark.sql(\"SELECT count(*) FROM iceberg.bronze.vendas VERSION AS OF 'etl_0' \").toPandas()"
   ]
  },
  {
   "cell_type": "code",
   "execution_count": null,
   "id": "8d36a7b7-7191-48a6-81ce-5d6a868c5831",
   "metadata": {},
   "outputs": [],
   "source": [
    "## Listar tabela por versão dev_etl\n",
    "# spark.sql(\"SELECT count(*) FROM iceberg.bronze.vendas VERSION AS OF 'etl_1' \").toPandas()"
   ]
  },
  {
   "cell_type": "markdown",
   "id": "aeb54146-ded4-42a4-94bf-679afe8d44e0",
   "metadata": {},
   "source": [
    "### Inserir Novos dados na branch dev"
   ]
  },
  {
   "cell_type": "code",
   "execution_count": null,
   "id": "8a089b1c-a258-47b5-9ae5-0eb9fca726ec",
   "metadata": {},
   "outputs": [],
   "source": [
    "## Inserir novos dados\n",
    "\n",
    "mar_data_df = create_dataframe(columns_schema, mar_data)\n",
    "\n",
    "mar_data_df.writeTo(\"iceberg.bronze.vendas.branch_etl_0\").append()"
   ]
  },
  {
   "cell_type": "code",
   "execution_count": null,
   "id": "bf895b0b-0e47-4c01-81d6-2cdf321bfb9d",
   "metadata": {},
   "outputs": [],
   "source": [
    "## Inserir novos dados\n",
    "\n",
    "# apr_data_df = create_dataframe(columns_schema, apr_data)\n",
    "\n",
    "# apr_data_df.writeTo(\"iceberg.bronze.vendas.branch_etl_1\").append()"
   ]
  },
  {
   "cell_type": "code",
   "execution_count": null,
   "id": "da0544c1-d7db-4b31-848c-f29f12876bba",
   "metadata": {},
   "outputs": [],
   "source": [
    "## Exibir novamente os dados da brach dev_branch\n",
    "\n",
    "spark.sql(\"SELECT count(*) FROM iceberg.bronze.vendas.branch_etl_0\").toPandas()"
   ]
  },
  {
   "cell_type": "code",
   "execution_count": null,
   "id": "b6e5290b-540a-4024-bb90-a2734b637e92",
   "metadata": {},
   "outputs": [],
   "source": [
    "## Exibir os dados da brach main\n",
    "\n",
    "spark.sql(\"SELECT count(*) FROM iceberg.bronze.vendas\").toPandas()"
   ]
  },
  {
   "cell_type": "markdown",
   "id": "33c4761f-8f80-403e-ac7a-4cd9fb1a629a",
   "metadata": {},
   "source": [
    "### Fast forward - Merge da dev_branch na branch main\n",
    "Para publicar a branch ``` 'dev' ``` na branch ``` 'main' ``` basta usar a procedure: catalog.system.fast_forward('catalog.db.tabela', 'main', 'dev').<br>\n",
    " \n",
    "Esta procedure faz uma mescla entre as duas versões da tabela, o processo é similar a mesclar um pull request no Git.\n",
    " \n",
    "Esta procedure moverá o ponteiro do branch main para o mesmo commit do branch ``` 'dev' ``` , e efetivamente faz a publicação das alterações na branch principal (``` 'main' ```)."
   ]
  },
  {
   "cell_type": "code",
   "execution_count": null,
   "id": "377ebb2c-0589-4c34-80e3-0d0cbe95a3bb",
   "metadata": {},
   "outputs": [],
   "source": [
    "spark.sql(f\" CALL iceberg.system.fast_forward('iceberg.bronze.vendas', 'main', 'etl_0')\")"
   ]
  },
  {
   "cell_type": "code",
   "execution_count": null,
   "id": "8349f4e1-79ce-4b64-8145-341a07075a50",
   "metadata": {},
   "outputs": [],
   "source": [
    "# spark.sql(f\" CALL iceberg.system.fast_forward('iceberg.bronze.vendas', 'main', 'etl_1')\")"
   ]
  },
  {
   "cell_type": "markdown",
   "id": "d36a100d-5793-47ce-a186-06fa5b542beb",
   "metadata": {},
   "source": [
    "### Se tudo deu certo vamos deletar a branch de dev"
   ]
  },
  {
   "cell_type": "code",
   "execution_count": null,
   "id": "e8832996-2852-4da8-b593-9d32948d4255",
   "metadata": {},
   "outputs": [],
   "source": [
    "## Em caso de sucesso ou falha é bom não deixar historico desnecessário ==> Boas praticas do padrão Feature-Branch\n",
    "spark.sql(\"ALTER TABLE iceberg.bronze.vendas DROP BRANCH etl_0\")"
   ]
  },
  {
   "cell_type": "code",
   "execution_count": null,
   "id": "175d758e-04cc-491d-bd0a-577e9dbdd76a",
   "metadata": {},
   "outputs": [],
   "source": [
    "## Em caso de sucesso ou falha é bom não deixar historico desnecessário ==> Boas praticas do padrão Feature-Branch\n",
    "# spark.sql(\"ALTER TABLE iceberg.bronze.vendas DROP BRANCH etl_1\")"
   ]
  },
  {
   "cell_type": "code",
   "execution_count": null,
   "id": "b0758dfb-5cfa-498d-9a2c-71128df6f856",
   "metadata": {},
   "outputs": [],
   "source": [
    "\n",
    "spark.sql(\"SELECT * FROM iceberg.bronze.vendas.refs;\").toPandas()"
   ]
  },
  {
   "cell_type": "code",
   "execution_count": null,
   "id": "e1507b5a-e42a-4be1-b6d9-465a2c4ebbcf",
   "metadata": {},
   "outputs": [],
   "source": [
    "\n",
    "#Exibir versão final\n",
    "spark.sql(\"SELECT count(*) FROM iceberg.bronze.vendas\").toPandas()"
   ]
  },
  {
   "cell_type": "markdown",
   "id": "500169cc-0927-44f6-ba29-47e9568783ef",
   "metadata": {},
   "source": [
    "### Tags\n",
    "Você pode criar uma tag usando SQL, especificando o nome da tag, o snapshot de referência e, opcionalmente, um período de retenção dos dados refente ao snapshot.\n",
    "\n",
    "Uma vez criada, a tag sempre apontará para um snapshot, mesmo que novos snapshots sejam criados na tabela. Com isso você congela o estado da tabela e pode acessa-lo facilmente por meio de uma referencia amigavel\n",
    "\n",
    "Expiração de Tags e Retenção: Você pode definir um período de retenção para uma tag usando o comando ```RETAIN```  Após esse período, a tag é considerada expirada e pode ser removida automaticamente pelo sistema."
   ]
  },
  {
   "cell_type": "code",
   "execution_count": null,
   "id": "291eeb34-425c-486e-a4be-0f24e573a8d3",
   "metadata": {},
   "outputs": [],
   "source": [
    "## Criando Tags\n",
    "spark.sql(f\"\"\"\n",
    "    ALTER TABLE iceberg.bronze.vendas.branch_etl_0\n",
    "      CREATE TAG `vendas-mar-2024` \n",
    "      AS OF VERSION ***\n",
    "      RETAIN 180 DAYS \"\"\"\n",
    ")"
   ]
  },
  {
   "cell_type": "code",
   "execution_count": null,
   "id": "80e2d884-71e6-40fe-944a-e4f855d91790",
   "metadata": {},
   "outputs": [],
   "source": [
    "## Criando Tags\n",
    "# spark.sql(f\"\"\"\n",
    "#     ALTER TABLE iceberg.bronze.vendas.branch_etl_1\n",
    "#       CREATE TAG `vendas-abr-2024` \n",
    "#       AS OF VERSION ***\n",
    "#       RETAIN 180 DAYS \"\"\"\n",
    "# )"
   ]
  },
  {
   "cell_type": "code",
   "execution_count": null,
   "id": "dc34da94-0b56-44fe-9fbb-ee79fefabf43",
   "metadata": {},
   "outputs": [],
   "source": [
    "## Consultando Tags\n",
    "spark.sql(\"SELECT count(*) FROM iceberg.bronze.vendas FOR VERSION AS OF 'vendas-abr-2024'\").show()"
   ]
  },
  {
   "cell_type": "code",
   "execution_count": null,
   "id": "140501c6-8a58-4d03-a021-d8c6910d4086",
   "metadata": {},
   "outputs": [],
   "source": [
    "## Deletar Tags\n",
    "# spark.sql(f\"ALTER TABLE iceberg.bronze.vendas DROP TAG `vendas-mar-2024`\")"
   ]
  },
  {
   "cell_type": "code",
   "execution_count": null,
   "id": "090d8448-949c-4f29-86fa-c1d37e1dbaaa",
   "metadata": {},
   "outputs": [],
   "source": []
  }
 ],
 "metadata": {
  "kernelspec": {
   "display_name": "Python 3 (ipykernel)",
   "language": "python",
   "name": "python3"
  },
  "language_info": {
   "codemirror_mode": {
    "name": "ipython",
    "version": 3
   },
   "file_extension": ".py",
   "mimetype": "text/x-python",
   "name": "python",
   "nbconvert_exporter": "python",
   "pygments_lexer": "ipython3",
   "version": "3.8.10"
  }
 },
 "nbformat": 4,
 "nbformat_minor": 5
}
