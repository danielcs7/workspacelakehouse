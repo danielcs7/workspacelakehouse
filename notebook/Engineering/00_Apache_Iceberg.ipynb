{
 "cells": [
  {
   "cell_type": "markdown",
   "id": "c888aa3d-b628-403e-bfc0-dcb6ae7471b9",
   "metadata": {},
   "source": [
    "### Visão geral do Apache Iceberg\n",
    "O Apache Iceberg é um formato de tabela de código aberto para grandes conjuntos de dados analíticos. compativel com Spark, Trino, PrestoDB, Flink, Hive, Impala e Dremio usando um formato de tabela de alto desempenho semelhante a uma tabela SQL. Ele foi criado em 2017 pela Netflix para resolver desafios com desempenho, consistência e muitos outros desafios encontrados com o formato de tabela Hive. Em 2018, o projeto tornou-se open source e foi doado à Apache Software Foundation.\n",
    "\n",
    "### As principais caracteristicas deste formato são:   \n",
    "\n",
    "**Isolamento serializável:** As leituras serão isoladas de gravações simultâneas e sempre usarão um snapshot confirmado dos dados de uma tabela. As gravações permitirão a remoção e adição de arquivos em uma única operação e nunca serão parcialmente. Sem bloqueios.\n",
    "\n",
    "**Velocidade:** As operações usarão chamadas remotas O(1). O Iceberg não requer um mecanismo SQL distribuído para ler uma tabela ou encontrar arquivos. AS varreduras não são O(n) onde n cresce com o tamanho da tabela, como o número de partições ou arquivos. Isso significa que o planejamento de consulta é rápido, pois o mecanismo pode identificar rapidamente os arquivos necessários para atender à consulta.\n",
    "\n",
    "**Escala:** O planejamento do trabalho será tratado principalmente pelos clientes e não causará gargalo em um armazenamento central de metadados. Os metadados incluirão informações necessárias para otimização baseada em custo.\n",
    "\n",
    "**Evolução:** As tabelas suportarão a evolução completa do esquema e da especificação de partição. A evolução do esquema suporta a adição, remoção, reordenação e renomeação segura de colunas, incluindo em estruturas aninhadas.  O Iceberg suporta a evolução do esquema e da partição sem reescrever toda a tabela.\n",
    "\n",
    "**Tipos confiáveis:** As tabelas fornecerão suporte bem definido e confiável para um conjunto básico de tipos.\n",
    "\n",
    "**Separação de armazenamento:** O particionamento será a configuração da tabela. As leituras serão planejadas usando predicados em valores de dados, não em valores de partição. As tabelas suportam evolução de esquemas e de partição.\n",
    "\n",
    "**Formatos:** Os formatos de arquivo de dados subjacentes suportarão regras e tipos de evolução de esquema idênticos. Formatos otimizados para leitura e otimizados para gravação estarão disponíveis.\n",
    "\n",
    "### Observações:\n",
    "**Armazenamento subjacente:** O desempenho do sistema de armazenamento subjacente (por exemplo, S3, ADLS, HDFS) também desempenhará um papel na velocidade geral do Iceberg.<br>\n",
    "**Mecanismo de computação:** O mecanismo de computação usado para interagir com a tabela Iceberg (por exemplo, Spark, Flink, Dremio) também pode afetar o desempenho.\n",
    "\n",
    "    \n",
    "fonte: https://iceberg.apache.org/spec/"
   ]
  },
  {
   "cell_type": "markdown",
   "id": "ce55a067-7ab8-4bfc-80e3-589aff427661",
   "metadata": {},
   "source": [
    "**O Apache Iceberg se destaca por sua capacidade de gerenciar metadados de forma eficiente, o que possibilita diversas funcionalidades importantes para um data lakehouse.**<br>\n",
    "* O Apache Iceberg se trata principalmente do gerenciamento de metadados"
   ]
  },
  {
   "cell_type": "code",
   "execution_count": 2,
   "id": "46d40639-5e46-4f92-a192-40769fcd6f54",
   "metadata": {},
   "outputs": [
    {
     "data": {
      "text/html": [
       "\n",
       "<style>\n",
       "    .code-box {\n",
       "        background-color: #f8f9fa !important; \n",
       "        border: 1px solid #ced4da !important;\n",
       "        border-radius: 5px !important;\n",
       "        padding: 10px !important;\n",
       "        font-family: Consolas, Monaco, \"Andale Mono\", \"Ubuntu Mono\", monospace !important;\n",
       "        color: #28a745 !important;\n",
       "        overflow-x: auto;    }\n",
       "\n",
       "   \n",
       "    .code-box code {\n",
       "        background: transparent !important;     \n",
       "        color: #28a745 !important;              \n",
       "    }\n",
       "</style>\n",
       "<pre class=\"code-box\"><code>\n",
       "\n",
       "+--------------------------+ \n",
       "|      Metadata File       |\n",
       "+--------------------------+\n",
       "              |\n",
       "              v\n",
       "    +---------------------+     \n",
       "    |   Manifest List     |\n",
       "    +---------------------+\n",
       "              |\n",
       "              v\n",
       "    +------------------+-------------------+\n",
       "    |                  |                   |\n",
       "    v                  v                   v\n",
       "+-----------+     +-----------+     +-----------+\n",
       "| Manifest  |     | Manifest  |     | Manifest  |\n",
       "+-----------+     +-----------+     +-----------+\n",
       "      |                 |                 |\n",
       "      v                 v                 v\n",
       "+-----------+     +-----------+     +-----------+\n",
       "| Dados     |     |  Dados    |     |  Dados    |\n",
       "+-----------+     +-----------+     +-----------+\n",
       "\n",
       "</code></pre>\n"
      ],
      "text/plain": [
       "<IPython.core.display.HTML object>"
      ]
     },
     "metadata": {},
     "output_type": "display_data"
    }
   ],
   "source": [
    "%run ./Includes/Iceberg_Table.ipynb"
   ]
  }
 ],
 "metadata": {
  "kernelspec": {
   "display_name": "Python 3 (ipykernel)",
   "language": "python",
   "name": "python3"
  },
  "language_info": {
   "codemirror_mode": {
    "name": "ipython",
    "version": 3
   },
   "file_extension": ".py",
   "mimetype": "text/x-python",
   "name": "python",
   "nbconvert_exporter": "python",
   "pygments_lexer": "ipython3",
   "version": "3.8.10"
  }
 },
 "nbformat": 4,
 "nbformat_minor": 5
}
