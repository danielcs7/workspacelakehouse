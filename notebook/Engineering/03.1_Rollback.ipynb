{
 "cells": [
  {
   "cell_type": "code",
   "execution_count": null,
   "id": "f31e75ac-1a9d-41fe-8dc8-cdbb7b51b7dc",
   "metadata": {},
   "outputs": [],
   "source": [
    "from pyspark.sql import SparkSession\n",
    "spark = SparkSession.builder \\\n",
    "    .appName('dataincode') \\\n",
    "    .config(\"spark.jars\", \"/opt/spark/jars/iceberg-spark-runtime-3.5_2.12-1.6.0.jar\") \\\n",
    "    .config(\"spark.sql.extensions\", \"org.apache.iceberg.spark.extensions.IcebergSparkSessionExtensions\") \\\n",
    "    .config(\"spark.sql.catalog.local\", \"org.apache.iceberg.spark.SparkCatalog\") \\\n",
    "    .config(\"spark.sql.catalog.spark_catalog.type\", \"hive\") \\\n",
    "    .config(\"spark.sql.catalog.local.warehouse\", \"s3a://datalake/iceberg\") \\\n",
    "    .getOrCreate()\n",
    "\n",
    "#Ajuste de log WARN log para ERROR\n",
    "spark.sparkContext.setLogLevel(\"ERROR\")"
   ]
  },
  {
   "cell_type": "markdown",
   "id": "38ffde53-d665-4718-b1ab-ca1f2f7cc220",
   "metadata": {},
   "source": [
    "#### Rollback no Nível da Tabela\n",
    "As tabelas Iceberg são imutáveis, significando que os dados nunca são modificados no local. Em vez disso, novas versões dos dados são criadas com cada transação, preservando o histórico completo da tabela. Essa imutabilidade permite reverter facilmente para qualquer ponto anterior no tempo, efetivamente executando um rollback.\n",
    "\n",
    " Obs: É possivel fazer rollback a nível do **catálogo**, este não iremos aboradar aqui, pois limita-se Project Nessie **_até onde pesquisei_**\n",
    "\n",
    "**Opções de Rollback a nivel de tabela no Spark:**\n",
    "    \n",
    "- rollback_to_snapshot: Reverte uma tabela para um ID de snapshot específico.\n",
    "\n",
    "- rollback_to_timestamp: Reverte uma tabela para um timestamp específico.\n",
    "\n",
    "- set_current_snapshot: Define um ID de snapshot arbitrário como o estado atual da tabela, permitindo alternar entre versões, mesmo que não estejam sequencialmente relacionadas.\n",
    "\n",
    "- cherrypick_snapshot: Cria um novo snapshot incorporando mudanças de outro snapshot sem criar novos arquivos de dados.\n",
    "```sql\n",
    "-- Syntax: para Argumentos nomeados\n",
    "CALL catalog_name.system.procedure_name(arg_name_2 => arg_2, arg_name_1 => arg_1);\n",
    "\n",
    "-- Syntax: Argumentos posicionais\n",
    "CALL catalog_name.system.procedure_name(arg_1, arg_2, ... arg_n);\n",
    "```\n",
    "\n",
    "**Fonte:**<br>\n",
    "https://iceberg.apache.org/docs/1.5.1/spark-procedures/#example <br>\n",
    "Apache Iceberg: The Definitive Guide"
   ]
  },
  {
   "cell_type": "code",
   "execution_count": null,
   "id": "16474cbd-27d1-4aa0-8641-6d75d2b0f43a",
   "metadata": {},
   "outputs": [],
   "source": [
    "# Importar funções \n",
    "from IPython.display import display, HTML"
   ]
  },
  {
   "cell_type": "code",
   "execution_count": null,
   "id": "fd1ad8a3-959b-4acd-9163-5b960014fadf",
   "metadata": {},
   "outputs": [],
   "source": [
    "%run ./Includes/Utils.ipynb"
   ]
  },
  {
   "cell_type": "code",
   "execution_count": null,
   "id": "305b5222-e92f-4ff1-b08f-53a3442eee0d",
   "metadata": {},
   "outputs": [],
   "source": [
    "%run ./Includes/Datasets.ipynb"
   ]
  },
  {
   "cell_type": "code",
   "execution_count": null,
   "id": "01501596-e70f-497f-82f1-32f4ffd5cda9",
   "metadata": {},
   "outputs": [],
   "source": [
    "spark.sql(\"USE iceberg\")"
   ]
  },
  {
   "cell_type": "code",
   "execution_count": null,
   "id": "3bd4fd7b-667b-42ce-8d56-41641c0bd9e0",
   "metadata": {},
   "outputs": [],
   "source": [
    "init_data_df = create_dataframe(columns_schema, init_data)"
   ]
  },
  {
   "cell_type": "code",
   "execution_count": null,
   "id": "41c210ec-0680-4eca-8fc5-d8e35bd69439",
   "metadata": {},
   "outputs": [],
   "source": [
    "# Escrever tabela no storage\n",
    "(\n",
    "    init_data_df\n",
    "    .writeTo(\"iceberg.bronze.order\")\n",
    "    .partitionedBy(\"country\")\n",
    "    .createOrReplace()\n",
    ")"
   ]
  },
  {
   "cell_type": "code",
   "execution_count": null,
   "id": "675d3d27-4841-44c9-9722-581ef141caff",
   "metadata": {},
   "outputs": [],
   "source": [
    "## Ativar WAP\n",
    "spark.sql(\"\"\"\n",
    "    ALTER TABLE iceberg.bronze.order\n",
    "    SET TBLPROPERTIES (\n",
    "        'write.wap.enabled' = 'true'\n",
    "    )\"\"\"\n",
    ")"
   ]
  },
  {
   "cell_type": "code",
   "execution_count": null,
   "id": "c28dedbd-5dc6-4076-a200-4cb6dd1f4dd9",
   "metadata": {},
   "outputs": [],
   "source": [
    "spark.sql(\"SELECT count(*) FROM iceberg.bronze.order\").toPandas()"
   ]
  },
  {
   "cell_type": "code",
   "execution_count": null,
   "id": "19354251-bd1b-4203-9d51-31718302a3a5",
   "metadata": {},
   "outputs": [],
   "source": [
    "# Criar uma branch de desenvolvimento chamada etl_rollback\n",
    "\n",
    "spark.sql(\"ALTER TABLE iceberg.bronze.order CREATE BRANCH etl_rollback\")"
   ]
  },
  {
   "cell_type": "code",
   "execution_count": null,
   "id": "95c63ec1-fedf-4df6-bd57-7af083567c31",
   "metadata": {},
   "outputs": [],
   "source": [
    "## Inserir novos dados\n",
    "\n",
    "# feb_data_df = create_dataframe(columns_schema, feb_data)\n",
    "\n",
    "# feb_data_df.writeTo(\"iceberg.bronze.order\").append()"
   ]
  },
  {
   "cell_type": "code",
   "execution_count": null,
   "id": "8c50aff1-4055-4f0c-87f9-1b5d8a4ab894",
   "metadata": {},
   "outputs": [],
   "source": [
    "spark.sql(\"SELECT * FROM iceberg.bronze.order.history\").show()"
   ]
  },
  {
   "cell_type": "code",
   "execution_count": null,
   "id": "3e8f7521-3a30-4b90-be40-85b9c9acb4c6",
   "metadata": {},
   "outputs": [],
   "source": [
    "## Listar branches da tabela\n",
    "spark.sql(\"SELECT * FROM iceberg.bronze.order.refs;\").show()"
   ]
  },
  {
   "cell_type": "code",
   "execution_count": null,
   "id": "6089146b-c0ec-4230-8e90-6fc1b0e6eae6",
   "metadata": {},
   "outputs": [],
   "source": [
    "## Inserir novos dados na branch etl_rollback\n",
    "\n",
    "mar_data_df = create_dataframe(columns_schema, mar_data)\n",
    "\n",
    "mar_data_df.writeTo(\"iceberg.bronze.order.branch_etl_rollback\").append()"
   ]
  },
  {
   "cell_type": "code",
   "execution_count": null,
   "id": "8b35534e-1f29-4262-a0fa-1ad988bfa7a6",
   "metadata": {},
   "outputs": [],
   "source": [
    "spark.sql(\"SELECT count(*) FROM iceberg.bronze.order.branch_etl_rollback\").toPandas()"
   ]
  },
  {
   "cell_type": "code",
   "execution_count": null,
   "id": "ca4510b1-a3dc-4cf6-b152-cc8e8fbcec1b",
   "metadata": {},
   "outputs": [],
   "source": [
    "3248082128628347586\n",
    "\n",
    "spark.sql(\"CALL iceberg.system.rollback_to_snapshot('iceberg.bronze.order', 3248082128628347586)\")"
   ]
  },
  {
   "cell_type": "code",
   "execution_count": null,
   "id": "4a5d3579-722d-4884-aebe-a028df0fe5bb",
   "metadata": {},
   "outputs": [],
   "source": [
    "## Fast forward\n",
    "spark.sql(f\" CALL iceberg.system.fast_forward('iceberg.bronze.order', 'main', 'etl_rollback')\")"
   ]
  },
  {
   "cell_type": "code",
   "execution_count": null,
   "id": "8d5c4b21-fc2c-448d-9e41-e121ed4620b7",
   "metadata": {},
   "outputs": [],
   "source": [
    "# spark.sql(\"DROP TABLE iceberg.bronze.order PURGE\")"
   ]
  },
  {
   "cell_type": "code",
   "execution_count": null,
   "id": "4052005f-2bf9-4ae7-b822-c7a2d0668b9e",
   "metadata": {},
   "outputs": [],
   "source": [
    "spark.stop()"
   ]
  }
 ],
 "metadata": {
  "kernelspec": {
   "display_name": "Python 3 (ipykernel)",
   "language": "python",
   "name": "python3"
  },
  "language_info": {
   "codemirror_mode": {
    "name": "ipython",
    "version": 3
   },
   "file_extension": ".py",
   "mimetype": "text/x-python",
   "name": "python",
   "nbconvert_exporter": "python",
   "pygments_lexer": "ipython3",
   "version": "3.8.10"
  }
 },
 "nbformat": 4,
 "nbformat_minor": 5
}
